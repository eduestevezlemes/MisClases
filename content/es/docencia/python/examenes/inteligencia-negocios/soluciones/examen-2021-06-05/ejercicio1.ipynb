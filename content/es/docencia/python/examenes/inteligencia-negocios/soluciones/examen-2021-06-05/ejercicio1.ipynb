{
  "cells": [
    {
      "source": [
        "# Ejercicio\n",
        "\n",
        "A veces, al tratar con tuplas, podemos tener un problema en el que necesitamos extraer solo $k$ elementos extremos, es decir, los $k$ máximos y mínimos. Este problema puede tener aplicaciones en campos como el desarrollo web y la ciencia de datos. Desarrollar un programa que dada una tupla y un número $k$ devuelva otra tupla con los $k$ elementos máximos y mínimos.\n",
        "\n",
        "Ejemplo:\n",
        "\n",
        "```sh\n",
        "La tupla original es: (5, 20, 3, 7, 6, 8) \n",
        "La tupla con los k = 2 máximos y mínimos es: (3, 5, 8, 20) \n",
        "```"
      ],
      "cell_type": "markdown",
      "metadata": {
        "id": "R9PcBoVPYBHH"
      }
    },
    {
      "cell_type": "markdown",
      "metadata": {
        "id": "JGET0DE8YBHO"
      },
      "source": [
        "# Solución 1"
      ]
    },
    {
      "cell_type": "code",
      "execution_count": 4,
      "metadata": {
        "tags": [],
        "colab": {
          "base_uri": "https://localhost:8080/"
        },
        "id": "xDmU4mQMYBHQ",
        "outputId": "c063b7f9-7162-474d-e9f5-bd2e697cb864"
      },
      "outputs": [
        {
          "output_type": "stream",
          "name": "stdout",
          "text": [
            "¿Cuántos máximos y mínimos quieres? 2\n",
            "(3, 5, 8, 20)\n"
          ]
        }
      ],
      "source": [
        "# Definimos la tupla\n",
        "tupla = (5, 20, 3, 7, 6, 8)\n",
        "# Preguntamos por el valor de k\n",
        "k = int(input('¿Cuántos máximos y mínimos quieres? '))\n",
        "# Convertimos la tupla en una lista para poder eliminar elmentos.\n",
        "lista = list(tupla)\n",
        "# Condicional para ver si la lista contiene suficientes elementos.\n",
        "if len(lista) < 2 * k:\n",
        "  print('No se pueden extraer', k, 'máximos y mínimos de la tupla porque solo cotinene', len(lista), 'elementos.')\n",
        "else:\n",
        "  # Ordenamos la lista\n",
        "  lista.sort()\n",
        "  # Creamos una tupla concatenando los k primeros y los k últimos elementos de la lista ordenada.\n",
        "  tupla2 = tuple(lista[:k] + lista[-k:])\n",
        "  print(tupla2)\n"
      ]
    },
    {
      "source": [
        "# Solución 2"
      ],
      "cell_type": "markdown",
      "metadata": {
        "id": "7A0MlRBFYBHU"
      }
    },
    {
      "cell_type": "code",
      "execution_count": 2,
      "metadata": {
        "colab": {
          "base_uri": "https://localhost:8080/"
        },
        "id": "_44BFMQ4YBHW",
        "outputId": "dd30fa50-a489-4f8f-c754-967da3db6203"
      },
      "outputs": [
        {
          "output_type": "stream",
          "name": "stdout",
          "text": [
            "\n",
            "Cuántos máximos y mínimos deseas en la nueva tupla: 2\n",
            "\n",
            "Tupla original: (5, 20, 3, 7, 6, 8)\n",
            "Tupla máximos y mínimos: (3, 5, 8, 20)\n",
            "\n"
          ]
        }
      ],
      "source": [
        "tuplaOriginal = (5, 20, 3, 7, 6, 8)\n",
        "listaOriginal = []\n",
        "listaMax = []\n",
        "listaMin = []\n",
        "print()\n",
        "k = int(input(\"Cuántos máximos y mínimos deseas en la nueva tupla: \"))\n",
        "print()\n",
        "\n",
        "listaOriginal = list(tuplaOriginal) #Transformamos la tupla original en una lista\n",
        "listaOriginal.sort()  #Usamos el método .sort() para ordenarlo de menor a mayor y poder localizar así los máximos y mínimos\n",
        "\n",
        "for i in range(0, k): # Con un bucle for añadimos a la listaMin con el método .append() en un rango de la posición 0 a la posición k.\n",
        "\n",
        "    listaMin.append(listaOriginal[i]) #Vamos añadiendo los valores a la lista en cuestión\n",
        "    \n",
        "for i in range(len(tuplaOriginal)-k, len(tuplaOriginal)): # Para los máximos usamos de rango desde la longitud de la tupla original menos k hasta la longitud de la tupla original\n",
        "    \n",
        "    listaMax.append(listaOriginal[i])\n",
        "\n",
        "\n",
        "print(\"Tupla original:\",tuplaOriginal)\n",
        "print(\"Tupla máximos y mínimos:\",tuple(listaMin + listaMax))# Imprimimos las listas sumando una y otra y transformandolas en tuplas con tuple(lista)\n",
        "\n",
        "print()\n",
        "\n"
      ]
    },
    {
      "cell_type": "code",
      "execution_count": 3,
      "metadata": {
        "colab": {
          "base_uri": "https://localhost:8080/"
        },
        "id": "PmbZhUuDYBHV",
        "outputId": "322e1f55-a4c0-40b7-cbc3-5e6f894816b6"
      },
      "outputs": [
        {
          "output_type": "stream",
          "name": "stdout",
          "text": [
            "¿Cuántos máximos y mínimos quieres? 2\n",
            "(3, 20, 5, 8)\n"
          ]
        }
      ],
      "source": [
        "# Definimos la tupla\n",
        "tupla = (5, 20, 3, 7, 6, 8)\n",
        "# Preguntamos por el valor de k\n",
        "k = int(input('¿Cuántos máximos y mínimos quieres? '))\n",
        "# Convertimos la tupla en una lista para poder eliminar elmentos.\n",
        "lista = list(tupla)\n",
        "# Condicional para ver si la lista contiene suficientes elementos.\n",
        "if len(lista) < 2 * k:\n",
        "  print('No se pueden extraer ', k, 'máximos y mínimos de la tupla porque solo cotinene', len(lista), 'elementos.')\n",
        "else:\n",
        "  # Creamos una lista vacía para ir añadiendo los máximos y mínimos.\n",
        "  lista2 = []\n",
        "  # Bucle iterativo para realizar k iteraciones. i toma valores de 0 a k-1.\n",
        "  for i in range(k): \n",
        "    # Añadimos a la lista2 el mínimo de la lista.\n",
        "    lista2.append(min(lista))\n",
        "    # Eliminiamos de la lista el mínimo.\n",
        "    lista.remove(min(lista))\n",
        "    # Añadimos a la lista 2 el máximo de la lista.\n",
        "    lista2.append(max(lista))\n",
        "    # Eliminiamos de la lista el máximo.\n",
        "    lista.remove(max(lista))\n",
        "  # Convertimos la lista2 en una tupla.\n",
        "  tupla2 = tuple(lista2)\n",
        "  print(tupla2)"
      ]
    }
  ],
  "metadata": {
    "kernelspec": {
      "display_name": "Python 3",
      "language": "python",
      "name": "python3"
    },
    "language_info": {
      "codemirror_mode": {
        "name": "ipython",
        "version": 3
      },
      "file_extension": ".py",
      "mimetype": "text/x-python",
      "name": "python",
      "nbconvert_exporter": "python",
      "pygments_lexer": "ipython3",
      "version": "3.9.5-final"
    },
    "colab": {
      "name": "ejercicio1.ipynb",
      "provenance": []
    }
  },
  "nbformat": 4,
  "nbformat_minor": 0
}